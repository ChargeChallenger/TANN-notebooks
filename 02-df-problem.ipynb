{
 "cells": [
  {
   "cell_type": "code",
   "execution_count": 4,
   "id": "911a5283",
   "metadata": {},
   "outputs": [],
   "source": [
    "import pandas as pd\n",
    "\n",
    "data = {\n",
    "    'product': ['стул', 'стул', 'кресло', 'стул', 'кресло', 'стол обеденный', 'стол письменный'],\n",
    "    'price': [1000, 1200, 5000, 1100, 5200, 8000, 9000],\n",
    "    'batch': [1, 2, 1, 3, 2, 1, 2],\n",
    "    'quantity': [10, 15, 5, 20, 8, 2, 3]\n",
    "}\n",
    "df = pd.DataFrame(data)"
   ]
  },
  {
   "cell_type": "code",
   "execution_count": null,
   "id": "71bc1237",
   "metadata": {},
   "outputs": [
    {
     "name": "stdout",
     "output_type": "stream",
     "text": [
      "           product  batch  total_batch_price\n",
      "0           кресло      2              86600\n",
      "1   стол обеденный      1              51000\n",
      "2  стол письменный      2              86600\n",
      "3             стул      3              22000\n"
     ]
    },
    {
     "ename": "",
     "evalue": "",
     "output_type": "error",
     "traceback": [
      "\u001b[1;31mПри выполнении кода в текущей ячейке или предыдущей ячейке ядро аварийно завершило работу. \n",
      "\u001b[1;31mПроверьте код в ячейках, чтобы определить возможную причину сбоя. \n",
      "\u001b[1;31mЩелкните <a href='https://aka.ms/vscodeJupyterKernelCrash'>здесь</a>, чтобы получить дополнительные сведения. \n",
      "\u001b[1;31mПодробнее см. в <a href='command:jupyter.viewOutput'>журнале Jupyter</a>."
     ]
    }
   ],
   "source": [
    "df_agg = df.groupby(['batch', 'product'], as_index=False).agg(\n",
    "    price=('price', 'first'),\n",
    "    quantity=('quantity', 'sum')\n",
    ")\n",
    "\n",
    "df_agg['product_total'] = df_agg['price'] * df_agg['quantity']\n",
    "\n",
    "batch_total = df_agg.groupby('batch', as_index=False).agg(\n",
    "    total_batch_price=('product_total', 'sum')\n",
    ")\n",
    "\n",
    "idx = df_agg.groupby('product')['quantity'].idxmax()\n",
    "max_product_batch = df_agg.loc[idx, ['product', 'batch', 'quantity']]\n",
    "\n",
    "result_df = max_product_batch.merge(batch_total, on='batch')\n",
    "\n",
    "result_df = result_df[['product', 'batch', 'total_batch_price']]\n",
    "print(result_df)"
   ]
  }
 ],
 "metadata": {
  "kernelspec": {
   "display_name": ".venv",
   "language": "python",
   "name": "python3"
  },
  "language_info": {
   "codemirror_mode": {
    "name": "ipython",
    "version": 3
   },
   "file_extension": ".py",
   "mimetype": "text/x-python",
   "name": "python",
   "nbconvert_exporter": "python",
   "pygments_lexer": "ipython3",
   "version": "3.12.6"
  }
 },
 "nbformat": 4,
 "nbformat_minor": 5
}
